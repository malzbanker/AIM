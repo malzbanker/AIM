{
 "cells": [
  {
   "cell_type": "code",
   "execution_count": 4,
   "metadata": {},
   "outputs": [],
   "source": [
    "import pandas as pd\n",
    "import numpy as np\n",
    "from scipy.stats import ttest_ind, chi2_contingency\n",
    "import matplotlib.pyplot as plt\n",
    "import seaborn as sns\n",
    "from scipy.stats import ttest_ind\n",
    "import scipy.stats as stats"
   ]
  },
  {
   "cell_type": "code",
   "execution_count": 2,
   "metadata": {},
   "outputs": [],
   "source": [
    "import sys, os\n",
    "sys.path.append(os.path.abspath(os.path.join(os.path.dirname(\"../scripts\"))))"
   ]
  },
  {
   "cell_type": "code",
   "execution_count": 3,
   "metadata": {},
   "outputs": [],
   "source": [
    "from scripts.missing_value import handle_missing_values"
   ]
  },
  {
   "cell_type": "code",
   "execution_count": 4,
   "metadata": {},
   "outputs": [
    {
     "name": "stderr",
     "output_type": "stream",
     "text": [
      "C:\\Users\\HP\\AppData\\Local\\Temp\\ipykernel_8952\\724081391.py:2: DtypeWarning: Columns (32,37) have mixed types. Specify dtype option on import or set low_memory=False.\n",
      "  data = pd.read_csv(\"../data/MachineLearningRating_v3.csv\")\n"
     ]
    },
    {
     "name": "stdout",
     "output_type": "stream",
     "text": [
      "   UnderwrittenCoverID  PolicyID     TransactionMonth  IsVATRegistered  \\\n",
      "0               145249     12827  2015-03-01 00:00:00             True   \n",
      "1               145249     12827  2015-05-01 00:00:00             True   \n",
      "2               145249     12827  2015-07-01 00:00:00             True   \n",
      "3               145255     12827  2015-05-01 00:00:00             True   \n",
      "4               145255     12827  2015-07-01 00:00:00             True   \n",
      "\n",
      "  Citizenship          LegalType Title Language                 Bank  \\\n",
      "0              Close Corporation    Mr  English  First National Bank   \n",
      "1              Close Corporation    Mr  English  First National Bank   \n",
      "2              Close Corporation    Mr  English  First National Bank   \n",
      "3              Close Corporation    Mr  English  First National Bank   \n",
      "4              Close Corporation    Mr  English  First National Bank   \n",
      "\n",
      "       AccountType  ...                    ExcessSelected CoverCategory  \\\n",
      "0  Current account  ...             Mobility - Windscreen    Windscreen   \n",
      "1  Current account  ...             Mobility - Windscreen    Windscreen   \n",
      "2  Current account  ...             Mobility - Windscreen    Windscreen   \n",
      "3  Current account  ...  Mobility - Metered Taxis - R2000    Own damage   \n",
      "4  Current account  ...  Mobility - Metered Taxis - R2000    Own damage   \n",
      "\n",
      "    CoverType            CoverGroup              Section  \\\n",
      "0  Windscreen  Comprehensive - Taxi  Motor Comprehensive   \n",
      "1  Windscreen  Comprehensive - Taxi  Motor Comprehensive   \n",
      "2  Windscreen  Comprehensive - Taxi  Motor Comprehensive   \n",
      "3  Own Damage  Comprehensive - Taxi  Motor Comprehensive   \n",
      "4  Own Damage  Comprehensive - Taxi  Motor Comprehensive   \n",
      "\n",
      "                           Product StatutoryClass StatutoryRiskType  \\\n",
      "0  Mobility Metered Taxis: Monthly     Commercial     IFRS Constant   \n",
      "1  Mobility Metered Taxis: Monthly     Commercial     IFRS Constant   \n",
      "2  Mobility Metered Taxis: Monthly     Commercial     IFRS Constant   \n",
      "3  Mobility Metered Taxis: Monthly     Commercial     IFRS Constant   \n",
      "4  Mobility Metered Taxis: Monthly     Commercial     IFRS Constant   \n",
      "\n",
      "   TotalPremium TotalClaims  \n",
      "0     21.929825         0.0  \n",
      "1     21.929825         0.0  \n",
      "2      0.000000         0.0  \n",
      "3    512.848070         0.0  \n",
      "4      0.000000         0.0  \n",
      "\n",
      "[5 rows x 52 columns]\n"
     ]
    }
   ],
   "source": [
    "# Load data\n",
    "data = pd.read_csv(\"../data/MachineLearningRating_v3.csv\")  \n",
    "\n",
    "# Preview the data\n",
    "print(data.head())\n",
    "\n",
    "# Handle missing values (if needed)\n",
    "  # Or use imputation techniques\n",
    "\n"
   ]
  },
  {
   "cell_type": "code",
   "execution_count": 5,
   "metadata": {},
   "outputs": [],
   "source": [
    "# Create new features for margin and risk ratio\n",
    "data['Margin'] = data['TotalPremium'] - data['TotalClaims']\n",
    "data['RiskRatio'] = data['TotalClaims'] / (data['TotalPremium'] + 1e-9)  # Avoid division by zero\n"
   ]
  },
  {
   "cell_type": "code",
   "execution_count": 6,
   "metadata": {},
   "outputs": [
    {
     "name": "stdout",
     "output_type": "stream",
     "text": [
      "Province\n",
      "Gauteng          393865\n",
      "Western Cape     170796\n",
      "KwaZulu-Natal    169781\n",
      "North West       143287\n",
      "Mpumalanga        52718\n",
      "Eastern Cape      30336\n",
      "Limpopo           24836\n",
      "Free State         8099\n",
      "Northern Cape      6380\n",
      "Name: count, dtype: int64\n",
      "PostalCode\n",
      "2000    133498\n",
      "122      49171\n",
      "7784     28585\n",
      "299      25546\n",
      "7405     18518\n",
      "         ...  \n",
      "284          1\n",
      "7560         1\n",
      "2210         1\n",
      "3655         1\n",
      "6655         1\n",
      "Name: count, Length: 888, dtype: int64\n",
      "Gender\n",
      "Not specified    940990\n",
      "Male              42817\n",
      "Female             6755\n",
      "Name: count, dtype: int64\n"
     ]
    }
   ],
   "source": [
    "print(data['Province'].value_counts())\n",
    "print(data['PostalCode'].value_counts())\n",
    "print(data['Gender'].value_counts())"
   ]
  },
  {
   "cell_type": "code",
   "execution_count": 10,
   "metadata": {},
   "outputs": [],
   "source": [
    "# Data Segmentation\n",
    "\n",
    "# Filter out relevant columns (You can also do this in the previous pre-processing step)\n",
    "data['TotalPremium'] = pd.to_numeric(data['TotalPremium'], errors='coerce')\n",
    "data['TotalClaims'] = pd.to_numeric(data['TotalClaims'], errors='coerce')\n",
    "\n",
    "# Drop rows with NaN values in our metrics of interest\n",
    "data.dropna(subset=['TotalPremium', 'TotalClaims'], inplace=True)\n",
    "\n",
    "# Create groups for Province\n",
    "province_a = data[data['Province'] == 'Gauteng']  # Change to actual province name\n",
    "province_b = data[data['Province'] == 'Western Cape']  # Change to actual province name\n",
    "\n",
    "# For Gender Comparison\n",
    "gender_men = data[data['Gender'] == 'Male']\n",
    "gender_women = data[data['Gender'] == 'Female']"
   ]
  },
  {
   "cell_type": "code",
   "execution_count": 11,
   "metadata": {},
   "outputs": [
    {
     "name": "stdout",
     "output_type": "stream",
     "text": [
      "T-test between provinces:\n",
      "t-statistic: 1.8652143496485993\n",
      "p-value: 0.06215231452280004\n",
      "Fail to reject null hypothesis: No risk differences across provinces.\n"
     ]
    }
   ],
   "source": [
    "#Statistical Testing\n",
    "#Risk Differences Across Provinces:\n",
    "# T-test for TotalClaims across provinces\n",
    "t_stat, p_value = stats.ttest_ind(province_a['TotalClaims'], province_b['TotalClaims'], equal_var=False)\n",
    "print(\"T-test between provinces:\")\n",
    "print(\"t-statistic:\", t_stat)\n",
    "print(\"p-value:\", p_value)\n",
    "\n",
    "# Hypothesis\n",
    "if p_value < 0.05:\n",
    "    print(\"Reject null hypothesis: There are risk differences across provinces.\")\n",
    "else:\n",
    "    print(\"Fail to reject null hypothesis: No risk differences across provinces.\")"
   ]
  },
  {
   "cell_type": "code",
   "execution_count": 12,
   "metadata": {},
   "outputs": [
    {
     "name": "stdout",
     "output_type": "stream",
     "text": [
      "T-test between zip codes:\n",
      "t-statistic: nan\n",
      "p-value: nan\n"
     ]
    },
    {
     "name": "stderr",
     "output_type": "stream",
     "text": [
      "C:\\Users\\HP\\AppData\\Local\\Temp\\ipykernel_8952\\3801818424.py:7: SmallSampleWarning: One or more sample arguments is too small; all returned values will be NaN. See documentation for sample size requirements.\n",
      "  t_stat, p_value = stats.ttest_ind(zip_a['TotalClaims'], zip_b['TotalClaims'], equal_var=False)\n"
     ]
    }
   ],
   "source": [
    "#Risk Differences Between Zip Codes:\n",
    "# Create zip code groups\n",
    "zip_a = data[data['PostalCode'] == '2000']  # Replace with actual zip code\n",
    "zip_b = data[data['PostalCode'] == '122']\n",
    "\n",
    "# T-test for TotalClaims\n",
    "t_stat, p_value = stats.ttest_ind(zip_a['TotalClaims'], zip_b['TotalClaims'], equal_var=False)\n",
    "print(\"T-test between zip codes:\")\n",
    "print(\"t-statistic:\", t_stat)\n",
    "print(\"p-value:\", p_value)"
   ]
  },
  {
   "cell_type": "code",
   "execution_count": 13,
   "metadata": {},
   "outputs": [
    {
     "name": "stdout",
     "output_type": "stream",
     "text": [
      "T-test for margin between zip codes:\n",
      "t-statistic: nan\n",
      "p-value: nan\n"
     ]
    },
    {
     "name": "stderr",
     "output_type": "stream",
     "text": [
      "C:\\Users\\HP\\AppData\\Local\\Temp\\ipykernel_8952\\1157490913.py:6: SmallSampleWarning: One or more sample arguments is too small; all returned values will be NaN. See documentation for sample size requirements.\n",
      "  t_stat, p_value = stats.ttest_ind(zip_a['Margin'], zip_b['Margin'], equal_var=False)\n"
     ]
    }
   ],
   "source": [
    "#Margin Differences Between Zip Codes:\n",
    "zip_a['Margin'] = zip_a['TotalPremium'] - zip_a['TotalClaims']\n",
    "zip_b['Margin'] = zip_b['TotalPremium'] - zip_b['TotalClaims']\n",
    "\n",
    "# T-test for Margin\n",
    "t_stat, p_value = stats.ttest_ind(zip_a['Margin'], zip_b['Margin'], equal_var=False)\n",
    "print(\"T-test for margin between zip codes:\")\n",
    "print(\"t-statistic:\", t_stat)\n",
    "print(\"p-value:\", p_value)"
   ]
  },
  {
   "cell_type": "code",
   "execution_count": null,
   "metadata": {},
   "outputs": [],
   "source": [
    "print(zip_a['Margin'].count())  # Number of valid entries\n",
    "print(zip_b['Margin'].count())  # Number of valid entries"
   ]
  },
  {
   "cell_type": "code",
   "execution_count": 14,
   "metadata": {},
   "outputs": [
    {
     "name": "stdout",
     "output_type": "stream",
     "text": [
      "T-test between genders:\n",
      "t-statistic: -0.296353891400699\n",
      "p-value: 0.7669656471629474\n",
      "Fail to reject null hypothesis: No significant risk differences between women and men.\n"
     ]
    }
   ],
   "source": [
    "#Risk Differences Between Women and Men:\n",
    "\n",
    "t_stat, p_value = stats.ttest_ind(gender_men['TotalClaims'], gender_women['TotalClaims'], equal_var=False)\n",
    "print(\"T-test between genders:\")\n",
    "print(\"t-statistic:\", t_stat)\n",
    "print(\"p-value:\", p_value)\n",
    "\n",
    "# Hypothesis\n",
    "if p_value < 0.05:\n",
    "    print(\"Reject null hypothesis: There are significant risk differences between women and men.\")\n",
    "else:\n",
    "    print(\"Fail to reject null hypothesis: No significant risk differences between women and men.\")"
   ]
  },
  {
   "cell_type": "code",
   "execution_count": 5,
   "metadata": {},
   "outputs": [
    {
     "name": "stderr",
     "output_type": "stream",
     "text": [
      "C:\\Users\\HP\\AppData\\Local\\Temp\\ipykernel_11772\\2108188699.py:2: DtypeWarning: Columns (32,37) have mixed types. Specify dtype option on import or set low_memory=False.\n",
      "  data = pd.read_csv(\"../data/MachineLearningRating_v3.csv\")\n"
     ]
    }
   ],
   "source": [
    "# Load data\n",
    "data = pd.read_csv(\"../data/MachineLearningRating_v3.csv\")"
   ]
  },
  {
   "cell_type": "code",
   "execution_count": null,
   "metadata": {},
   "outputs": [],
   "source": []
  },
  {
   "cell_type": "code",
   "execution_count": null,
   "metadata": {},
   "outputs": [],
   "source": [
    "#Statistical Modeling\n",
    "\n",
    "# Handling Missing Data\n",
    "data.fillna(data.mean(), inplace=True)  # Impute missing values with the mean for numeric cols\n",
    "\n",
    "# Feature Engineering: Create Margin feature\n",
    "data['Margin'] = data['TotalPremium'] - data['TotalClaims']\n",
    "\n",
    "# Encoding Categorical Data\n",
    "data = pd.get_dummies(data, columns=['Citizenship', 'LegalType', 'Title', 'Language','Bank', 'AccountType', 'Province'], drop_first=True)\n",
    "\n",
    "# Train-Test Split\n",
    "from sklearn.model_selection import train_test_split\n",
    "\n",
    "X = data.drop(['TotalPremium', 'TotalClaims', 'UnderwrittenCoverID', 'PolicyID', 'TransactionMonth'], axis=1)\n",
    "y = data['TotalPremium']  # Example target variable\n",
    "\n",
    "X_train, X_test, y_train, y_test = train_test_split(X, y, test_size=0.2, random_state=42)"
   ]
  },
  {
   "cell_type": "code",
   "execution_count": null,
   "metadata": {},
   "outputs": [],
   "source": [
    "#Model Building\n",
    "\n",
    "from sklearn.linear_model import LinearRegression\n",
    "from sklearn.ensemble import RandomForestRegressor\n",
    "from xgboost import XGBRegressor\n",
    "\n",
    "# Linear Regression\n",
    "lr = LinearRegression()\n",
    "lr.fit(X_train, y_train)\n",
    "lr_pred = lr.predict(X_test)\n",
    "\n",
    "# Random Forest\n",
    "rf = RandomForestRegressor(random_state=42)\n",
    "rf.fit(X_train, y_train)\n",
    "rf_pred = rf.predict(X_test)\n",
    "\n",
    "# XGBoost\n",
    "xgb = XGBRegressor(random_state=42)\n",
    "xgb.fit(X_train, y_train)\n",
    "xgb_pred = xgb.predict(X_test)"
   ]
  },
  {
   "cell_type": "code",
   "execution_count": null,
   "metadata": {},
   "outputs": [],
   "source": [
    "# Model Evaluation\n",
    "\n",
    "from sklearn.metrics import mean_squared_error, mean_absolute_error, r2_score\n",
    "\n",
    "# Function to evaluate models\n",
    "def evaluate_model(y_true, y_pred):\n",
    "    mse = mean_squared_error(y_true, y_pred)\n",
    "    mae = mean_absolute_error(y_true, y_pred)\n",
    "    r2 = r2_score(y_true, y_pred)\n",
    "    return mse, mae, r2\n",
    "\n",
    "# Evaluate each model\n",
    "lr_metrics = evaluate_model(y_test, lr_pred)\n",
    "rf_metrics = evaluate_model(y_test, rf_pred)\n",
    "xgb_metrics = evaluate_model(y_test, xgb_pred)\n",
    "\n",
    "print(\"Linear Regression:\", lr_metrics)\n",
    "print(\"Random Forest:\", rf_metrics)\n",
    "print(\"XGBoost:\", xgb_metrics)"
   ]
  },
  {
   "cell_type": "code",
   "execution_count": null,
   "metadata": {},
   "outputs": [],
   "source": [
    "#  Feature Importance Analysis and Interpretation\n",
    "\n",
    "# Feature Importance Analysis\n",
    "importances = rf.feature_importances_\n",
    "features = X.columns\n",
    "indices = np.argsort(importances)[::-1]\n",
    "\n",
    "# Print feature ranking\n",
    "print(\"Feature ranking:\")\n",
    "for f in range(X.shape[1]):\n",
    "    print(f\"{f + 1}. feature {features[indices[f]]} ({importances[indices[f]]})\")"
   ]
  }
 ],
 "metadata": {
  "kernelspec": {
   "display_name": "AlphaCare",
   "language": "python",
   "name": "python3"
  },
  "language_info": {
   "codemirror_mode": {
    "name": "ipython",
    "version": 3
   },
   "file_extension": ".py",
   "mimetype": "text/x-python",
   "name": "python",
   "nbconvert_exporter": "python",
   "pygments_lexer": "ipython3",
   "version": "3.13.1"
  }
 },
 "nbformat": 4,
 "nbformat_minor": 2
}
