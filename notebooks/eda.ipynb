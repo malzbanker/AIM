{
 "cells": [
  {
   "cell_type": "code",
   "execution_count": 16,
   "metadata": {},
   "outputs": [],
   "source": [
    "import pandas as pd\n",
    "import numpy as np"
   ]
  },
  {
   "cell_type": "code",
   "execution_count": 17,
   "metadata": {},
   "outputs": [],
   "source": [
    "import sys, os\n",
    "sys.path.append(os.path.abspath(os.path.join(os.path.dirname(\"../scripts\"))))"
   ]
  },
  {
   "cell_type": "code",
   "execution_count": 21,
   "metadata": {},
   "outputs": [],
   "source": [
    "from scripts.data_cleaning import treat_outliers_with_mean, clean_data_1, clean_data_2\n",
    "from scripts.data_extraction import read_csv\n",
    "from scripts.data_check import check_missing_value\n"
   ]
  },
  {
   "cell_type": "code",
   "execution_count": 5,
   "metadata": {},
   "outputs": [
    {
     "name": "stdout",
     "output_type": "stream",
     "text": [
      "extracting data from csv...\n"
     ]
    },
    {
     "name": "stderr",
     "output_type": "stream",
     "text": [
      "c:\\Users\\HP\\Desktop\\10 Acadamy\\AIM  Week 3\\AIM_WEEK_3\\scripts\\data_extraction.py:7: DtypeWarning: Columns (0,1,3,14,18,20,23,24,25,27,29,32,37,38,39,41,50,51) have mixed types. Specify dtype option on import or set low_memory=False.\n",
      "  data=pd.read_csv(file_path)\n"
     ]
    }
   ],
   "source": [
    "data = read_csv(\"../data/MachineLearningRating_v3.csv\")"
   ]
  },
  {
   "cell_type": "code",
   "execution_count": 6,
   "metadata": {},
   "outputs": [
    {
     "name": "stdout",
     "output_type": "stream",
     "text": [
      "               Column1   Column2              Column3          Column4  \\\n",
      "0  UnderwrittenCoverID  PolicyID     TransactionMonth  IsVATRegistered   \n",
      "1               145249     12827  2015-03-01 00:00:00             True   \n",
      "2               145249     12827  2015-05-01 00:00:00             True   \n",
      "3               145249     12827  2015-07-01 00:00:00             True   \n",
      "4               145255     12827  2015-05-01 00:00:00             True   \n",
      "\n",
      "       Column5            Column6 Column7   Column8              Column9  \\\n",
      "0  Citizenship          LegalType   Title  Language                 Bank   \n",
      "1               Close Corporation      Mr   English  First National Bank   \n",
      "2               Close Corporation      Mr   English  First National Bank   \n",
      "3               Close Corporation      Mr   English  First National Bank   \n",
      "4               Close Corporation      Mr   English  First National Bank   \n",
      "\n",
      "          Column10  ...                          Column43       Column44  \\\n",
      "0      AccountType  ...                    ExcessSelected  CoverCategory   \n",
      "1  Current account  ...             Mobility - Windscreen     Windscreen   \n",
      "2  Current account  ...             Mobility - Windscreen     Windscreen   \n",
      "3  Current account  ...             Mobility - Windscreen     Windscreen   \n",
      "4  Current account  ...  Mobility - Metered Taxis - R2000     Own damage   \n",
      "\n",
      "     Column45              Column46             Column47  \\\n",
      "0   CoverType            CoverGroup              Section   \n",
      "1  Windscreen  Comprehensive - Taxi  Motor Comprehensive   \n",
      "2  Windscreen  Comprehensive - Taxi  Motor Comprehensive   \n",
      "3  Windscreen  Comprehensive - Taxi  Motor Comprehensive   \n",
      "4  Own Damage  Comprehensive - Taxi  Motor Comprehensive   \n",
      "\n",
      "                          Column48        Column49           Column50  \\\n",
      "0                          Product  StatutoryClass  StatutoryRiskType   \n",
      "1  Mobility Metered Taxis: Monthly      Commercial      IFRS Constant   \n",
      "2  Mobility Metered Taxis: Monthly      Commercial      IFRS Constant   \n",
      "3  Mobility Metered Taxis: Monthly      Commercial      IFRS Constant   \n",
      "4  Mobility Metered Taxis: Monthly      Commercial      IFRS Constant   \n",
      "\n",
      "           Column51       Column52  \n",
      "0      TotalPremium    TotalClaims  \n",
      "1   21.929824561403  .000000000000  \n",
      "2   21.929824561403  .000000000000  \n",
      "3     .000000000000  .000000000000  \n",
      "4  512.848070175439  .000000000000  \n",
      "\n",
      "[5 rows x 52 columns]\n"
     ]
    }
   ],
   "source": [
    "print(data.head())"
   ]
  },
  {
   "cell_type": "code",
   "execution_count": 23,
   "metadata": {},
   "outputs": [
    {
     "name": "stdout",
     "output_type": "stream",
     "text": [
      "<class 'pandas.core.frame.DataFrame'>\n",
      "RangeIndex: 1000099 entries, 0 to 1000098\n",
      "Data columns (total 52 columns):\n",
      " #   Column    Non-Null Count    Dtype \n",
      "---  ------    --------------    ----- \n",
      " 0   Column1   1000099 non-null  object\n",
      " 1   Column2   1000099 non-null  object\n",
      " 2   Column3   1000099 non-null  object\n",
      " 3   Column4   1000099 non-null  object\n",
      " 4   Column5   1000099 non-null  object\n",
      " 5   Column6   1000099 non-null  object\n",
      " 6   Column7   1000099 non-null  object\n",
      " 7   Column8   1000099 non-null  object\n",
      " 8   Column9   854138 non-null   object\n",
      " 9   Column10  959867 non-null   object\n",
      " 10  Column11  991840 non-null   object\n",
      " 11  Column12  990563 non-null   object\n",
      " 12  Column13  1000099 non-null  object\n",
      " 13  Column14  1000099 non-null  object\n",
      " 14  Column15  1000099 non-null  object\n",
      " 15  Column16  1000099 non-null  object\n",
      " 16  Column17  1000099 non-null  object\n",
      " 17  Column18  1000099 non-null  object\n",
      " 18  Column19  999547 non-null   object\n",
      " 19  Column20  999547 non-null   object\n",
      " 20  Column21  1000099 non-null  object\n",
      " 21  Column22  999547 non-null   object\n",
      " 22  Column23  999547 non-null   object\n",
      " 23  Column24  999547 non-null   object\n",
      " 24  Column25  999547 non-null   object\n",
      " 25  Column26  999547 non-null   object\n",
      " 26  Column27  999547 non-null   object\n",
      " 27  Column28  999547 non-null   object\n",
      " 28  Column29  999547 non-null   object\n",
      " 29  Column30  220457 non-null   object\n",
      " 30  Column31  1000099 non-null  object\n",
      " 31  Column32  1000099 non-null  object\n",
      " 32  Column33  1000097 non-null  object\n",
      " 33  Column34  846804 non-null   object\n",
      " 34  Column35  358198 non-null   object\n",
      " 35  Column36  358198 non-null   object\n",
      " 36  Column37  358198 non-null   object\n",
      " 37  Column38  699 non-null      object\n",
      " 38  Column39  1 non-null        object\n",
      " 39  Column40  1000099 non-null  object\n",
      " 40  Column41  1000099 non-null  object\n",
      " 41  Column42  1000099 non-null  object\n",
      " 42  Column43  1000099 non-null  object\n",
      " 43  Column44  1000099 non-null  object\n",
      " 44  Column45  1000099 non-null  object\n",
      " 45  Column46  1000099 non-null  object\n",
      " 46  Column47  1000099 non-null  object\n",
      " 47  Column48  1000099 non-null  object\n",
      " 48  Column49  1000099 non-null  object\n",
      " 49  Column50  1000099 non-null  object\n",
      " 50  Column51  1000099 non-null  object\n",
      " 51  Column52  1000099 non-null  object\n",
      "dtypes: object(52)\n",
      "memory usage: 396.8+ MB\n"
     ]
    }
   ],
   "source": [
    "data.info()"
   ]
  },
  {
   "cell_type": "code",
   "execution_count": 22,
   "metadata": {},
   "outputs": [
    {
     "name": "stdout",
     "output_type": "stream",
     "text": [
      "Column9      145961\n",
      "Column10      40232\n",
      "Column11       8259\n",
      "Column12       9536\n",
      "Column19        552\n",
      "Column20        552\n",
      "Column22        552\n",
      "Column23        552\n",
      "Column24        552\n",
      "Column25        552\n",
      "Column26        552\n",
      "Column27        552\n",
      "Column28        552\n",
      "Column29        552\n",
      "Column30     779642\n",
      "Column33          2\n",
      "Column34     153295\n",
      "Column35     641901\n",
      "Column36     641901\n",
      "Column37     641901\n",
      "Column38     999400\n",
      "Column39    1000098\n",
      "dtype: int64\n"
     ]
    },
    {
     "data": {
      "text/plain": [
       "Column9      145961\n",
       "Column10      40232\n",
       "Column11       8259\n",
       "Column12       9536\n",
       "Column19        552\n",
       "Column20        552\n",
       "Column22        552\n",
       "Column23        552\n",
       "Column24        552\n",
       "Column25        552\n",
       "Column26        552\n",
       "Column27        552\n",
       "Column28        552\n",
       "Column29        552\n",
       "Column30     779642\n",
       "Column33          2\n",
       "Column34     153295\n",
       "Column35     641901\n",
       "Column36     641901\n",
       "Column37     641901\n",
       "Column38     999400\n",
       "Column39    1000098\n",
       "dtype: int64"
      ]
     },
     "execution_count": 22,
     "metadata": {},
     "output_type": "execute_result"
    }
   ],
   "source": [
    "check_missing_value(data)"
   ]
  }
 ],
 "metadata": {
  "kernelspec": {
   "display_name": "AlphaCare",
   "language": "python",
   "name": "python3"
  },
  "language_info": {
   "codemirror_mode": {
    "name": "ipython",
    "version": 3
   },
   "file_extension": ".py",
   "mimetype": "text/x-python",
   "name": "python",
   "nbconvert_exporter": "python",
   "pygments_lexer": "ipython3",
   "version": "3.13.1"
  }
 },
 "nbformat": 4,
 "nbformat_minor": 2
}
